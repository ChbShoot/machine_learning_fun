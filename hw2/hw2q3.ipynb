{
  "nbformat": 4,
  "nbformat_minor": 0,
  "metadata": {
    "colab": {
      "name": "hw2q3.ipynb",
      "provenance": [],
      "collapsed_sections": [
        "uShCgKfzNv3P",
        "cWDOWlHTf4Ly",
        "uJxW9Gn3k_sz",
        "gSEY0eX6yCuz"
      ]
    },
    "kernelspec": {
      "name": "python3",
      "display_name": "Python 3"
    },
    "accelerator": "GPU"
  },
  "cells": [
    {
      "cell_type": "markdown",
      "metadata": {
        "id": "geKziCv-1W4G",
        "colab_type": "text"
      },
      "source": [
        "#**Problem 3**\n",
        "\n",
        "In this problem you have to work with the CIFAR10 data set. Check out the notebook [cifar10_data_set](https://colab.research.google.com/drive/1LZZviWOzvchcXRdZi2IBx3KOpQOzLalf) to see how to load it.\n",
        "\n",
        "Give three convolutional models that \n",
        "\n",
        "- first model underfits\n",
        "- second model overfits\n",
        "- third model is pretty good\n",
        "\n",
        "Make sure that you plot the curves depicting the training/validation accuracy/loss."
      ]
    },
    {
      "cell_type": "code",
      "metadata": {
        "id": "U0eBU0RHY8Sm",
        "colab_type": "code",
        "outputId": "b43fc268-af73-48a3-e664-6e09a52497df",
        "colab": {
          "base_uri": "https://localhost:8080/",
          "height": 81
        }
      },
      "source": [
        "# Import libraries\n",
        "%matplotlib inline\n",
        "import tensorflow as tf\n",
        "import numpy as np\n",
        "import matplotlib.pyplot as plt"
      ],
      "execution_count": 0,
      "outputs": [
        {
          "output_type": "display_data",
          "data": {
            "text/html": [
              "<p style=\"color: red;\">\n",
              "The default version of TensorFlow in Colab will soon switch to TensorFlow 2.x.<br>\n",
              "We recommend you <a href=\"https://www.tensorflow.org/guide/migrate\" target=\"_blank\">upgrade</a> now \n",
              "or ensure your notebook will continue to use TensorFlow 1.x via the <code>%tensorflow_version 1.x</code> magic:\n",
              "<a href=\"https://colab.research.google.com/notebooks/tensorflow_version.ipynb\" target=\"_blank\">more info</a>.</p>\n"
            ],
            "text/plain": [
              "<IPython.core.display.HTML object>"
            ]
          },
          "metadata": {
            "tags": []
          }
        }
      ]
    },
    {
      "cell_type": "code",
      "metadata": {
        "id": "S4_CHGQe1Z6x",
        "colab_type": "code",
        "outputId": "fc5d2c4f-3294-4765-9930-28676a7758f0",
        "colab": {
          "base_uri": "https://localhost:8080/",
          "height": 52
        }
      },
      "source": [
        "(train_images, train_labels), (test_images, test_labels) = tf.keras.datasets.cifar10.load_data()\n"
      ],
      "execution_count": 0,
      "outputs": [
        {
          "output_type": "stream",
          "text": [
            "Downloading data from https://www.cs.toronto.edu/~kriz/cifar-10-python.tar.gz\n",
            "170500096/170498071 [==============================] - 21s 0us/step\n"
          ],
          "name": "stdout"
        }
      ]
    },
    {
      "cell_type": "code",
      "metadata": {
        "id": "_Ci7mn4CZH3T",
        "colab_type": "code",
        "colab": {}
      },
      "source": [
        "class_names = ['airplane', 'automobile', 'bird', 'cat', 'deer', 'dog', 'frog', 'horse', 'ship', 'truck']\n",
        "train_images = train_images / 255.0\n",
        "test_images = test_images / 255.0"
      ],
      "execution_count": 0,
      "outputs": []
    },
    {
      "cell_type": "markdown",
      "metadata": {
        "id": "uShCgKfzNv3P",
        "colab_type": "text"
      },
      "source": [
        "## Helper Functions"
      ]
    },
    {
      "cell_type": "code",
      "metadata": {
        "id": "f2MSQlIyNu1Y",
        "colab_type": "code",
        "colab": {}
      },
      "source": [
        "def plot_loss(epochs, train_loss, test_loss):\n",
        "  plt.plot(epochs, train_loss, 'bo', label='Training loss')\n",
        "  plt.plot(epochs, test_loss, 'ro', label='Test loss')\n",
        "  plt.title('Training and test loss')\n",
        "  plt.xlabel('Epochs')\n",
        "  plt.ylabel('Loss')\n",
        "  plt.legend()\n",
        "  plt.show()\n",
        "\n",
        "def plot_accuracy(epochs, train_acc, test_acc):\n",
        "  plt.plot(epochs, train_acc, 'bo', label='Training accuracy')\n",
        "  plt.plot(epochs, test_acc, 'ro', label='Test accuracy')\n",
        "  plt.title('Training and test accuracy')\n",
        "  plt.xlabel('Epochs')\n",
        "  plt.ylabel('Accuracy')\n",
        "  plt.legend()\n",
        "  plt.show()"
      ],
      "execution_count": 0,
      "outputs": []
    },
    {
      "cell_type": "markdown",
      "metadata": {
        "id": "cWDOWlHTf4Ly",
        "colab_type": "text"
      },
      "source": [
        "## Overfitting Model"
      ]
    },
    {
      "cell_type": "code",
      "metadata": {
        "id": "ulifLBxLaYDE",
        "colab_type": "code",
        "colab": {}
      },
      "source": [
        "model = tf.keras.Sequential([\n",
        "    tf.keras.layers.Input(shape=(32, 32, 3)),\n",
        "    tf.keras.layers.Conv2D(128, 3, activation=tf.nn.relu),\n",
        "    tf.keras.layers.MaxPooling2D((2, 2)),\n",
        "    tf.keras.layers.Conv2D(256, 3, activation=tf.nn.relu),\n",
        "    tf.keras.layers.MaxPooling2D((2, 2)),\n",
        "    tf.keras.layers.Conv2D(512, 3, activation=tf.nn.relu),\n",
        "    tf.keras.layers.MaxPooling2D((2, 2)),\n",
        "    tf.keras.layers.Flatten(),\n",
        "    tf.keras.layers.Dense(512, activation=tf.nn.relu),\n",
        "    tf.keras.layers.Dense(10, activation=tf.nn.softmax)\n",
        "])\n",
        "\n",
        "model.compile(optimizer='RMSProp',\n",
        "              loss='sparse_categorical_crossentropy',\n",
        "             metrics=['accuracy'])"
      ],
      "execution_count": 0,
      "outputs": []
    },
    {
      "cell_type": "code",
      "metadata": {
        "id": "H1a3CNXGdm-8",
        "colab_type": "code",
        "outputId": "9399d807-b1d9-49d7-c324-8e3a6988207a",
        "colab": {
          "base_uri": "https://localhost:8080/",
          "height": 805
        }
      },
      "source": [
        "epochs = 20\n",
        "\n",
        "history = model.fit(train_images,\n",
        "          train_labels,\n",
        "          epochs=epochs,\n",
        "          validation_data=(test_images, test_labels))"
      ],
      "execution_count": 0,
      "outputs": [
        {
          "output_type": "stream",
          "text": [
            "Train on 50000 samples, validate on 10000 samples\n",
            "Epoch 1/20\n",
            "50000/50000 [==============================] - 14s 289us/sample - loss: 1.4933 - acc: 0.4707 - val_loss: 1.1325 - val_acc: 0.6111\n",
            "Epoch 2/20\n",
            "50000/50000 [==============================] - 11s 217us/sample - loss: 1.0133 - acc: 0.6515 - val_loss: 1.4200 - val_acc: 0.5773\n",
            "Epoch 3/20\n",
            "50000/50000 [==============================] - 11s 221us/sample - loss: 0.8824 - acc: 0.7045 - val_loss: 0.9918 - val_acc: 0.6648\n",
            "Epoch 4/20\n",
            "50000/50000 [==============================] - 11s 221us/sample - loss: 0.8309 - acc: 0.7275 - val_loss: 1.0963 - val_acc: 0.6194\n",
            "Epoch 5/20\n",
            "50000/50000 [==============================] - 11s 217us/sample - loss: 0.7838 - acc: 0.7439 - val_loss: 1.0506 - val_acc: 0.6819\n",
            "Epoch 6/20\n",
            "50000/50000 [==============================] - 11s 215us/sample - loss: 0.7540 - acc: 0.7547 - val_loss: 1.0369 - val_acc: 0.6727\n",
            "Epoch 7/20\n",
            "50000/50000 [==============================] - 11s 218us/sample - loss: 0.7200 - acc: 0.7655 - val_loss: 1.1102 - val_acc: 0.6987\n",
            "Epoch 8/20\n",
            "50000/50000 [==============================] - 11s 217us/sample - loss: 0.6889 - acc: 0.7761 - val_loss: 1.6482 - val_acc: 0.6473\n",
            "Epoch 9/20\n",
            "50000/50000 [==============================] - 11s 218us/sample - loss: 0.6696 - acc: 0.7866 - val_loss: 1.1033 - val_acc: 0.7070\n",
            "Epoch 10/20\n",
            "50000/50000 [==============================] - 11s 215us/sample - loss: 0.6523 - acc: 0.7930 - val_loss: 1.3022 - val_acc: 0.7094\n",
            "Epoch 11/20\n",
            "50000/50000 [==============================] - 11s 215us/sample - loss: 0.6361 - acc: 0.8001 - val_loss: 1.2869 - val_acc: 0.7003\n",
            "Epoch 12/20\n",
            "50000/50000 [==============================] - 11s 215us/sample - loss: 0.6373 - acc: 0.7994 - val_loss: 1.1359 - val_acc: 0.6834\n",
            "Epoch 13/20\n",
            "50000/50000 [==============================] - 11s 217us/sample - loss: 0.6340 - acc: 0.8024 - val_loss: 1.0670 - val_acc: 0.6909\n",
            "Epoch 14/20\n",
            "50000/50000 [==============================] - 11s 215us/sample - loss: 0.6234 - acc: 0.8076 - val_loss: 1.0362 - val_acc: 0.7304\n",
            "Epoch 15/20\n",
            "50000/50000 [==============================] - 11s 216us/sample - loss: 0.6194 - acc: 0.8115 - val_loss: 1.2009 - val_acc: 0.7187\n",
            "Epoch 16/20\n",
            "50000/50000 [==============================] - 11s 218us/sample - loss: 0.6006 - acc: 0.8134 - val_loss: 1.6639 - val_acc: 0.6662\n",
            "Epoch 17/20\n",
            "50000/50000 [==============================] - 11s 215us/sample - loss: 0.5785 - acc: 0.8217 - val_loss: 1.0658 - val_acc: 0.6479\n",
            "Epoch 18/20\n",
            "50000/50000 [==============================] - 11s 214us/sample - loss: 0.5731 - acc: 0.8244 - val_loss: 1.1017 - val_acc: 0.7127\n",
            "Epoch 19/20\n",
            "50000/50000 [==============================] - 11s 215us/sample - loss: 0.5514 - acc: 0.8305 - val_loss: 1.4802 - val_acc: 0.7163\n",
            "Epoch 20/20\n",
            "50000/50000 [==============================] - 11s 215us/sample - loss: 0.5333 - acc: 0.8377 - val_loss: 1.3323 - val_acc: 0.7203\n"
          ],
          "name": "stdout"
        }
      ]
    },
    {
      "cell_type": "code",
      "metadata": {
        "id": "QpBlTmUXeB7T",
        "colab_type": "code",
        "outputId": "8f6962aa-7813-4ce3-b759-f4a62b735e8e",
        "colab": {
          "base_uri": "https://localhost:8080/",
          "height": 74
        }
      },
      "source": [
        "test_loss, test_acc = model.evaluate(test_images, test_labels)\n",
        "\n",
        "print('Test accuracy:', test_acc)"
      ],
      "execution_count": 0,
      "outputs": [
        {
          "output_type": "stream",
          "text": [
            "10000/10000 [==============================] - 1s 97us/sample - loss: 1.3323 - acc: 0.7203\n",
            "Test accuracy: 0.7203\n"
          ],
          "name": "stdout"
        }
      ]
    },
    {
      "cell_type": "code",
      "metadata": {
        "id": "HDy21kzffsjl",
        "colab_type": "code",
        "outputId": "48bf4802-b3a2-4741-de2e-2268a27734be",
        "colab": {
          "base_uri": "https://localhost:8080/",
          "height": 573
        }
      },
      "source": [
        "history_dict = history.history\n",
        "epochs_range = range(1, epochs+1)\n",
        "\n",
        "plot_loss(epochs_range, history_dict['loss'], history_dict['val_loss'])\n",
        "plot_accuracy(epochs_range, history_dict['acc'], history_dict['val_acc'])"
      ],
      "execution_count": 0,
      "outputs": [
        {
          "output_type": "display_data",
          "data": {
            "image/png": "[encoded data removed]",
            "text/plain": [
              "<Figure size 432x288 with 1 Axes>"
            ]
          },
          "metadata": {
            "tags": []
          }
        },
        {
          "output_type": "display_data",
          "data": {
            "image/png": "[encoded data removed]",
            "text/plain": [
              "<Figure size 432x288 with 1 Axes>"
            ]
          },
          "metadata": {
            "tags": []
          }
        }
      ]
    },
    {
      "cell_type": "markdown",
      "metadata": {
        "colab_type": "text",
        "id": "uJxW9Gn3k_sz"
      },
      "source": [
        "## Underfitting Model"
      ]
    },
    {
      "cell_type": "code",
      "metadata": {
        "colab_type": "code",
        "id": "7t0qTVxwk_s4",
        "colab": {}
      },
      "source": [
        "model = tf.keras.Sequential([\n",
        "    tf.keras.layers.Input(shape=(32, 32, 3)),\n",
        "    tf.keras.layers.Conv2D(128, 3, activation=tf.nn.relu),\n",
        "    tf.keras.layers.MaxPooling2D((2, 2)),\n",
        "    tf.keras.layers.Flatten(),\n",
        "    tf.keras.layers.Dense(1, activation=tf.nn.relu),\n",
        "    tf.keras.layers.Dense(10, activation=tf.nn.softmax)\n",
        "])\n",
        "\n",
        "model.compile(optimizer='RMSProp',\n",
        "              loss='sparse_categorical_crossentropy',\n",
        "             metrics=['accuracy'])"
      ],
      "execution_count": 0,
      "outputs": []
    },
    {
      "cell_type": "code",
      "metadata": {
        "colab_type": "code",
        "outputId": "2cd7c072-8dc3-4699-fd39-6a1614e16541",
        "id": "n0vgpifzk_tC",
        "colab": {
          "base_uri": "https://localhost:8080/",
          "height": 805
        }
      },
      "source": [
        "epochs = 20\n",
        "\n",
        "history = model.fit(train_images,\n",
        "          train_labels,\n",
        "          epochs=epochs,\n",
        "          validation_data=(test_images, test_labels))"
      ],
      "execution_count": 0,
      "outputs": [
        {
          "output_type": "stream",
          "text": [
            "Train on 50000 samples, validate on 10000 samples\n",
            "Epoch 1/20\n",
            "50000/50000 [==============================] - 7s 138us/sample - loss: 2.3033 - acc: 0.0971 - val_loss: 2.3026 - val_acc: 0.1000\n",
            "Epoch 2/20\n",
            "50000/50000 [==============================] - 7s 134us/sample - loss: 2.3029 - acc: 0.0987 - val_loss: 2.3026 - val_acc: 0.1000\n",
            "Epoch 3/20\n",
            "50000/50000 [==============================] - 7s 134us/sample - loss: 2.3028 - acc: 0.0984 - val_loss: 2.3026 - val_acc: 0.1000\n",
            "Epoch 4/20\n",
            "50000/50000 [==============================] - 7s 135us/sample - loss: 2.3028 - acc: 0.0984 - val_loss: 2.3026 - val_acc: 0.1000\n",
            "Epoch 5/20\n",
            "50000/50000 [==============================] - 7s 132us/sample - loss: 2.3028 - acc: 0.0976 - val_loss: 2.3027 - val_acc: 0.1000\n",
            "Epoch 6/20\n",
            "50000/50000 [==============================] - 7s 133us/sample - loss: 2.3027 - acc: 0.1000 - val_loss: 2.3027 - val_acc: 0.1000\n",
            "Epoch 7/20\n",
            "50000/50000 [==============================] - 7s 132us/sample - loss: 2.3028 - acc: 0.0985 - val_loss: 2.3027 - val_acc: 0.1000\n",
            "Epoch 8/20\n",
            "50000/50000 [==============================] - 7s 132us/sample - loss: 2.3028 - acc: 0.0958 - val_loss: 2.3026 - val_acc: 0.1000\n",
            "Epoch 9/20\n",
            "50000/50000 [==============================] - 7s 132us/sample - loss: 2.3028 - acc: 0.0979 - val_loss: 2.3026 - val_acc: 0.1000\n",
            "Epoch 10/20\n",
            "50000/50000 [==============================] - 7s 132us/sample - loss: 2.3028 - acc: 0.0975 - val_loss: 2.3026 - val_acc: 0.1000\n",
            "Epoch 11/20\n",
            "50000/50000 [==============================] - 7s 132us/sample - loss: 2.3027 - acc: 0.0979 - val_loss: 2.3027 - val_acc: 0.1000\n",
            "Epoch 12/20\n",
            "50000/50000 [==============================] - 7s 132us/sample - loss: 2.3028 - acc: 0.0980 - val_loss: 2.3026 - val_acc: 0.1000\n",
            "Epoch 13/20\n",
            "50000/50000 [==============================] - 7s 133us/sample - loss: 2.3027 - acc: 0.0994 - val_loss: 2.3027 - val_acc: 0.1000\n",
            "Epoch 14/20\n",
            "50000/50000 [==============================] - 7s 133us/sample - loss: 2.3028 - acc: 0.0993 - val_loss: 2.3026 - val_acc: 0.1000\n",
            "Epoch 15/20\n",
            "50000/50000 [==============================] - 7s 133us/sample - loss: 2.3028 - acc: 0.1005 - val_loss: 2.3026 - val_acc: 0.1000\n",
            "Epoch 16/20\n",
            "50000/50000 [==============================] - 7s 135us/sample - loss: 2.3028 - acc: 0.0983 - val_loss: 2.3026 - val_acc: 0.1000\n",
            "Epoch 17/20\n",
            "50000/50000 [==============================] - 7s 132us/sample - loss: 2.3028 - acc: 0.0985 - val_loss: 2.3027 - val_acc: 0.1000\n",
            "Epoch 18/20\n",
            "50000/50000 [==============================] - 7s 131us/sample - loss: 2.3028 - acc: 0.0991 - val_loss: 2.3026 - val_acc: 0.1000\n",
            "Epoch 19/20\n",
            "50000/50000 [==============================] - 7s 132us/sample - loss: 2.3028 - acc: 0.0980 - val_loss: 2.3026 - val_acc: 0.1000\n",
            "Epoch 20/20\n",
            "50000/50000 [==============================] - 7s 133us/sample - loss: 2.3027 - acc: 0.0974 - val_loss: 2.3027 - val_acc: 0.1000\n"
          ],
          "name": "stdout"
        }
      ]
    },
    {
      "cell_type": "code",
      "metadata": {
        "colab_type": "code",
        "outputId": "dad0112e-d6f9-4206-cc9c-23d45bc0f4c0",
        "id": "z4hFCMebk_tK",
        "colab": {
          "base_uri": "https://localhost:8080/",
          "height": 74
        }
      },
      "source": [
        "test_loss, test_acc = model.evaluate(test_images, test_labels)\n",
        "\n",
        "print('Test accuracy:', test_acc)"
      ],
      "execution_count": 0,
      "outputs": [
        {
          "output_type": "stream",
          "text": [
            "10000/10000 [==============================] - 1s 78us/sample - loss: 2.3027 - acc: 0.1000\n",
            "Test accuracy: 0.1\n"
          ],
          "name": "stdout"
        }
      ]
    },
    {
      "cell_type": "code",
      "metadata": {
        "colab_type": "code",
        "outputId": "03ad06e4-b4c6-4d7b-ceff-99ff39c11da1",
        "id": "feliCvwpk_tQ",
        "colab": {
          "base_uri": "https://localhost:8080/",
          "height": 573
        }
      },
      "source": [
        "history_dict = history.history\n",
        "epochs_range = range(1, epochs+1)\n",
        "\n",
        "plot_loss(epochs_range, history_dict['loss'], history_dict['val_loss'])\n",
        "plot_accuracy(epochs_range, history_dict['acc'], history_dict['val_acc'])"
      ],
      "execution_count": 0,
      "outputs": [
        {
          "output_type": "display_data",
          "data": {
            "image/png": "[encoded data removed]",
            "text/plain": [
              "<Figure size 432x288 with 1 Axes>"
            ]
          },
          "metadata": {
            "tags": []
          }
        },
        {
          "output_type": "display_data",
          "data": {
            "image/png": "[encoded data removed]",
            "text/plain": [
              "<Figure size 432x288 with 1 Axes>"
            ]
          },
          "metadata": {
            "tags": []
          }
        }
      ]
    },
    {
      "cell_type": "markdown",
      "metadata": {
        "colab_type": "text",
        "id": "gSEY0eX6yCuz"
      },
      "source": [
        "## Pretty Good Model\n",
        "\n",
        "For this model, I used [this](https://machinelearningmastery.com/how-to-develop-a-cnn-from-scratch-for-cifar-10-photo-classification/) for reference. I was a little lost as to how to make a good model and getting the format & MaxPooling2D to work properly was thanks to this"
      ]
    },
    {
      "cell_type": "code",
      "metadata": {
        "colab_type": "code",
        "id": "Nkx6eUYoyCu5",
        "outputId": "334058b7-6ae3-46ce-c568-c2bd2c066897",
        "colab": {
          "base_uri": "https://localhost:8080/",
          "height": 89
        }
      },
      "source": [
        "model = tf.keras.Sequential([\n",
        "    tf.keras.layers.Input(shape=(32, 32, 3)),\n",
        "    tf.keras.layers.Conv2D(32, (3, 3), activation=tf.nn.relu),\n",
        "    tf.keras.layers.Conv2D(32, (3, 3), activation=tf.nn.relu),\n",
        "    tf.keras.layers.MaxPooling2D((2, 2), padding='same'),\n",
        "    tf.keras.layers.Dropout(0.3),\n",
        "    tf.keras.layers.Conv2D(128, (3, 3), activation=tf.nn.relu),\n",
        "    tf.keras.layers.Conv2D(128, (3, 3), activation=tf.nn.relu),\n",
        "    tf.keras.layers.MaxPooling2D((2, 2), padding='same'),\n",
        "    tf.keras.layers.Dropout(0.2),\n",
        "    tf.keras.layers.Conv2D(256, (3, 3), activation=tf.nn.relu),\n",
        "    tf.keras.layers.Conv2D(256, (3, 3), activation=tf.nn.relu),\n",
        "    tf.keras.layers.MaxPooling2D((2, 2), padding='same'),\n",
        "    tf.keras.layers.Flatten(),\n",
        "    tf.keras.layers.Dense(256, activation=tf.nn.relu),\n",
        "    tf.keras.layers.Dropout(0.1),\n",
        "    tf.keras.layers.Dense(10, activation=tf.nn.softmax)\n",
        "])\n",
        "\n",
        "model.compile(optimizer='RMSProp',\n",
        "              loss='categorical_crossentropy',\n",
        "             metrics=['accuracy'])"
      ],
      "execution_count": 0,
      "outputs": [
        {
          "output_type": "stream",
          "text": [
            "WARNING:tensorflow:From /usr/local/lib/python3.6/dist-packages/tensorflow_core/python/ops/resource_variable_ops.py:1630: calling BaseResourceVariable.__init__ (from tensorflow.python.ops.resource_variable_ops) with constraint is deprecated and will be removed in a future version.\n",
            "Instructions for updating:\n",
            "If using Keras pass *_constraint arguments to layers.\n"
          ],
          "name": "stdout"
        }
      ]
    },
    {
      "cell_type": "code",
      "metadata": {
        "colab_type": "code",
        "outputId": "c03d68cb-833f-48d6-845b-a2c8460af687",
        "id": "BQurmP_JyCvE",
        "colab": {
          "base_uri": "https://localhost:8080/",
          "height": 749
        }
      },
      "source": [
        "epochs = 20\n",
        "\n",
        "history = model.fit(train_images,\n",
        "          tf.keras.utils.to_categorical(train_labels),\n",
        "          epochs=epochs,\n",
        "          validation_data=(test_images, tf.keras.utils.to_categorical(test_labels)))"
      ],
      "execution_count": 0,
      "outputs": [
        {
          "output_type": "stream",
          "text": [
            "Train on 50000 samples, validate on 10000 samples\n",
            "Epoch 1/20\n",
            "50000/50000 [==============================] - 34s 670us/sample - loss: 1.6229 - acc: 0.4109 - val_loss: 1.6571 - val_acc: 0.4507\n",
            "Epoch 2/20\n",
            "50000/50000 [==============================] - 27s 550us/sample - loss: 1.1649 - acc: 0.5942 - val_loss: 1.5671 - val_acc: 0.5368\n",
            "Epoch 3/20\n",
            "50000/50000 [==============================] - 28s 552us/sample - loss: 1.0195 - acc: 0.6533 - val_loss: 0.8915 - val_acc: 0.6954\n",
            "Epoch 4/20\n",
            "50000/50000 [==============================] - 28s 551us/sample - loss: 0.9808 - acc: 0.6713 - val_loss: 0.9435 - val_acc: 0.6794\n",
            "Epoch 5/20\n",
            "50000/50000 [==============================] - 27s 548us/sample - loss: 0.9683 - acc: 0.6804 - val_loss: 1.1739 - val_acc: 0.6702\n",
            "Epoch 6/20\n",
            "50000/50000 [==============================] - 27s 547us/sample - loss: 0.9578 - acc: 0.6871 - val_loss: 0.8481 - val_acc: 0.7144\n",
            "Epoch 7/20\n",
            "50000/50000 [==============================] - 28s 552us/sample - loss: 0.9466 - acc: 0.6928 - val_loss: 0.9030 - val_acc: 0.7201\n",
            "Epoch 8/20\n",
            "50000/50000 [==============================] - 27s 549us/sample - loss: 0.9423 - acc: 0.6996 - val_loss: 0.9420 - val_acc: 0.6917\n",
            "Epoch 9/20\n",
            "50000/50000 [==============================] - 27s 548us/sample - loss: 0.9463 - acc: 0.6987 - val_loss: 0.8775 - val_acc: 0.7277\n",
            "Epoch 10/20\n",
            "50000/50000 [==============================] - 27s 540us/sample - loss: 0.9445 - acc: 0.6988 - val_loss: 1.1981 - val_acc: 0.6601\n",
            "Epoch 11/20\n",
            "50000/50000 [==============================] - 27s 539us/sample - loss: 0.9691 - acc: 0.7010 - val_loss: 1.4961 - val_acc: 0.5853\n",
            "Epoch 12/20\n",
            "50000/50000 [==============================] - 27s 537us/sample - loss: 0.9606 - acc: 0.7004 - val_loss: 1.1071 - val_acc: 0.6726\n",
            "Epoch 13/20\n",
            "50000/50000 [==============================] - 27s 539us/sample - loss: 0.9809 - acc: 0.6948 - val_loss: 0.9268 - val_acc: 0.7110\n",
            "Epoch 14/20\n",
            "50000/50000 [==============================] - 27s 539us/sample - loss: 2.1420 - acc: 0.6904 - val_loss: 1.2840 - val_acc: 0.6235\n",
            "Epoch 15/20\n",
            "50000/50000 [==============================] - 27s 537us/sample - loss: 1.3817 - acc: 0.6844 - val_loss: 0.8934 - val_acc: 0.7137\n",
            "Epoch 16/20\n",
            "50000/50000 [==============================] - 27s 539us/sample - loss: 1.0056 - acc: 0.6891 - val_loss: 1.3853 - val_acc: 0.5701\n",
            "Epoch 17/20\n",
            "50000/50000 [==============================] - 27s 536us/sample - loss: 1.0558 - acc: 0.6872 - val_loss: 1.1353 - val_acc: 0.7246\n",
            "Epoch 18/20\n",
            "50000/50000 [==============================] - 27s 541us/sample - loss: 1.0234 - acc: 0.6868 - val_loss: 1.0229 - val_acc: 0.7065\n",
            "Epoch 19/20\n",
            "50000/50000 [==============================] - 27s 537us/sample - loss: 1.0386 - acc: 0.6822 - val_loss: 1.4528 - val_acc: 0.6563\n",
            "Epoch 20/20\n",
            "50000/50000 [==============================] - 27s 535us/sample - loss: 1.4761 - acc: 0.6770 - val_loss: 1.0006 - val_acc: 0.7044\n"
          ],
          "name": "stdout"
        }
      ]
    },
    {
      "cell_type": "code",
      "metadata": {
        "colab_type": "code",
        "outputId": "74ead9e7-0321-4832-88c0-71b941e54104",
        "id": "PH7J35N6yCvL",
        "colab": {
          "base_uri": "https://localhost:8080/",
          "height": 52
        }
      },
      "source": [
        "test_loss, test_acc = model.evaluate(test_images, tf.keras.utils.to_categorical(test_labels))\n",
        "\n",
        "print('Test accuracy:', test_acc)"
      ],
      "execution_count": 0,
      "outputs": [
        {
          "output_type": "stream",
          "text": [
            "10000/10000 [==============================] - 2s 191us/sample - loss: 1.0006 - acc: 0.7044\n",
            "Test accuracy: 0.7044\n"
          ],
          "name": "stdout"
        }
      ]
    },
    {
      "cell_type": "code",
      "metadata": {
        "colab_type": "code",
        "id": "EV0l6fvDyCvS",
        "outputId": "2b851e01-b37a-4c0c-975e-ad492c8db689",
        "colab": {
          "base_uri": "https://localhost:8080/",
          "height": 573
        }
      },
      "source": [
        "history_dict = history.history\n",
        "epochs_range = range(1, epochs+1)\n",
        "\n",
        "plot_loss(epochs_range, history_dict['loss'], history_dict['val_loss'])\n",
        "plot_accuracy(epochs_range, history_dict['acc'], history_dict['val_acc'])"
      ],
      "execution_count": 0,
      "outputs": [
        {
          "output_type": "display_data",
          "data": {
            "image/png": "[encoded data removed]",
            "text/plain": [
              "<Figure size 432x288 with 1 Axes>"
            ]
          },
          "metadata": {
            "tags": []
          }
        },
        {
          "output_type": "display_data",
          "data": {
            "image/png": "[encoded data removed]",
            "text/plain": [
              "<Figure size 432x288 with 1 Axes>"
            ]
          },
          "metadata": {
            "tags": []
          }
        }
      ]
    },
    {
      "cell_type": "code",
      "metadata": {
        "id": "x8WjPpIVD_Xt",
        "colab_type": "code",
        "colab": {}
      },
      "source": [
        ""
      ],
      "execution_count": 0,
      "outputs": []
    }
  ]
}