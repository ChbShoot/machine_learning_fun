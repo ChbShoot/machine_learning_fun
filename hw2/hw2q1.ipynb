{
  "nbformat": 4,
  "nbformat_minor": 0,
  "metadata": {
    "colab": {
      "name": "hw2q1.ipynb",
      "provenance": [],
      "collapsed_sections": []
    },
    "kernelspec": {
      "name": "python3",
      "display_name": "Python 3"
    },
    "accelerator": "GPU"
  },
  "cells": [
    {
      "cell_type": "markdown",
      "metadata": {
        "id": "9rsW-Ie81Mqu",
        "colab_type": "text"
      },
      "source": [
        "#**Problem 1**\n",
        "\n",
        "Come up with handcrafted features for the MNIST digit classificiation problem and use them in a simple model consisting of a single dense layer with softmax activation. \n",
        "\n",
        "Let x be the matrix representing a image of a MNIST digit.  Let vec(x) denote the flattened matrix x.\n",
        "\n",
        "Your baseline model is the simple model that takes only vec(x) as input. The goal is to improve the accuracy of the simple model by augmenting the input vec(x) with hand-crafted features.  \n",
        "\n",
        "Say, f1, f2, ..., fm are your hand-crafted features. The augmented input vector is then obtained by stacking vec(x) and the vector (f1, f2, ..., fm).  You can use the numpy command ```np.concatentate``` to stack vectors.\n",
        "\n",
        "The features could be: \n",
        "\n",
        "- width of digit (normalized to be in the range (0, 1)\n",
        "- height of digit (normalized to be in the range (0, 1)\n",
        "- number of white regions (a typical 8 has three, a typical 6 has two components, and 2 has 1), average intensity, etc. \n",
        "- note the you can one-hot encode the number of connected components as follows: b1 = 1 iff num = 1, b2 = 1 if num = 2, b3 = 1 if num = 3, and b = 1 if num = 0 or num >= 4 (the latter case should normally not occur for well-formed digits); this is probably better than have just a single feature num / 3.\n",
        "\n",
        "The problem of computing the number of independent white regions is a basic problem for job interviews. It boils down to computing connected components of the following graph. The vertices of the graph correspond to the pixels and are denoted by (i, j), which is the position of the pixel. Two vertices (i, j) and (i', j') are connected iff |i - i'| <= 1 and |j - j'| <= 1.  If a pixel at position (i, j) is black, then remove it together with its edges.\n",
        "\n",
        "You have to compute the number of connected components for the 60 thousand images. So make sure that your code is efficient."
      ]
    },
    {
      "cell_type": "code",
      "metadata": {
        "id": "iAl9hPLsz1MH",
        "colab_type": "code",
        "colab": {}
      },
      "source": [
        "# Import libraries\n",
        "%matplotlib inline\n",
        "import tensorflow as tf\n",
        "import numpy as np\n",
        "import matplotlib.pyplot as plt"
      ],
      "execution_count": 0,
      "outputs": []
    },
    {
      "cell_type": "code",
      "metadata": {
        "id": "tWnHQs8e1tIE",
        "colab_type": "code",
        "colab": {}
      },
      "source": [
        "# Load MNIST dataset\n",
        "mnist = tf.keras.datasets.mnist\n",
        "(train_images, train_labels), (test_images, test_labels) = mnist.load_data()"
      ],
      "execution_count": 0,
      "outputs": []
    },
    {
      "cell_type": "code",
      "metadata": {
        "id": "dMBEZTcqTX6v",
        "colab_type": "code",
        "colab": {}
      },
      "source": [
        "def get_max_distance(img):\n",
        "  left_edge = np.argmax(np.argmax(img, axis=0))\n",
        "  right_edge = np.argmax(np.argmax(np.flip(img, 1), axis=0))\n",
        "  return right_edge - left_edge\n",
        "\n",
        "def handcraft_features(img):\n",
        "  # Get the width of the max values\n",
        "  width = get_max_distance(img)\n",
        "  # Flip the image and get the height\n",
        "  height = get_max_distance(np.rot90(img, axes=(-2,-1)))\n",
        "\n",
        "  return np.concatenate([img.flatten(), [width,], [height,]])\n",
        "  \n",
        "def plot_loss(epochs, train_loss, test_loss):\n",
        "  plt.plot(epochs, train_loss, 'bo', label='Training loss')\n",
        "  plt.plot(epochs, test_loss, 'ro', label='Test loss')\n",
        "  plt.title('Training and test loss')\n",
        "  plt.xlabel('Epochs')\n",
        "  plt.ylabel('Loss')\n",
        "  plt.legend()\n",
        "  plt.show()\n",
        "\n",
        "def plot_accuracy(epochs, train_acc, test_acc):\n",
        "  plt.plot(epochs, train_acc, 'bo', label='Training accuracy')\n",
        "  plt.plot(epochs, test_acc, 'ro', label='Test accuracy')\n",
        "  plt.title('Training and test accuracy')\n",
        "  plt.xlabel('Epochs')\n",
        "  plt.ylabel('Accuracy')\n",
        "  plt.legend()\n",
        "  plt.show()"
      ],
      "execution_count": 0,
      "outputs": []
    },
    {
      "cell_type": "markdown",
      "metadata": {
        "id": "r0H7VDFbkzoJ",
        "colab_type": "text"
      },
      "source": [
        "## Model with Handcrafted Features"
      ]
    },
    {
      "cell_type": "code",
      "metadata": {
        "id": "_8lv5tiZ2bXL",
        "colab_type": "code",
        "colab": {}
      },
      "source": [
        "# Flatten all the images\n",
        "new_input = np.zeros((len(train_images), (len(train_images[0]) ** 2) + 2))\n",
        "new_test = np.zeros((len(test_images), (len(test_images[0]) ** 2) + 2))\n",
        "\n",
        "for i in range(len(train_images)):\n",
        "  new_input[i] = handcraft_features(train_images[i])\n",
        "for i in range(len(test_images)):\n",
        "  new_test[i] = handcraft_features(test_images[i])"
      ],
      "execution_count": 0,
      "outputs": []
    },
    {
      "cell_type": "code",
      "metadata": {
        "id": "epmbinVOmi8s",
        "colab_type": "code",
        "colab": {}
      },
      "source": [
        "model = tf.keras.Sequential([\n",
        "    tf.keras.layers.Dense(10, input_shape=(28*28 + 2,), activation=tf.nn.softmax)\n",
        "])\n",
        "\n",
        "model.compile(optimizer='rmsprop',\n",
        "              loss='sparse_categorical_crossentropy',\n",
        "             metrics=['accuracy'])"
      ],
      "execution_count": 0,
      "outputs": []
    },
    {
      "cell_type": "code",
      "metadata": {
        "id": "CmTHKrS6h2vj",
        "colab_type": "code",
        "colab": {
          "base_uri": "https://localhost:8080/",
          "height": 790
        },
        "outputId": "10aea030-fbc7-4045-e3f2-6367e7589364"
      },
      "source": [
        "# train the model\n",
        "epochs = 20\n",
        "history = model.fit(new_input, \n",
        "                      train_labels,\n",
        "                      epochs=epochs,\n",
        "                      validation_data=(new_test, test_labels))"
      ],
      "execution_count": 87,
      "outputs": [
        {
          "output_type": "stream",
          "text": [
            "Train on 60000 samples, validate on 10000 samples\n",
            "Epoch 1/20\n",
            "60000/60000 [==============================] - 6s 95us/sample - loss: 9.6568 - acc: 0.8411 - val_loss: 6.0786 - val_acc: 0.8796\n",
            "Epoch 2/20\n",
            "60000/60000 [==============================] - 6s 93us/sample - loss: 6.2185 - acc: 0.8767 - val_loss: 5.4714 - val_acc: 0.8952\n",
            "Epoch 3/20\n",
            "60000/60000 [==============================] - 6s 92us/sample - loss: 5.7116 - acc: 0.8796 - val_loss: 4.9185 - val_acc: 0.8973\n",
            "Epoch 4/20\n",
            "60000/60000 [==============================] - 6s 93us/sample - loss: 5.4760 - acc: 0.8835 - val_loss: 5.0914 - val_acc: 0.8947\n",
            "Epoch 5/20\n",
            "60000/60000 [==============================] - 6s 92us/sample - loss: 5.3335 - acc: 0.8837 - val_loss: 6.4645 - val_acc: 0.8601\n",
            "Epoch 6/20\n",
            "60000/60000 [==============================] - 6s 93us/sample - loss: 5.2681 - acc: 0.8849 - val_loss: 5.3937 - val_acc: 0.8798\n",
            "Epoch 7/20\n",
            "60000/60000 [==============================] - 6s 94us/sample - loss: 5.2051 - acc: 0.8842 - val_loss: 5.7102 - val_acc: 0.8842\n",
            "Epoch 8/20\n",
            "60000/60000 [==============================] - 6s 92us/sample - loss: 5.1703 - acc: 0.8860 - val_loss: 4.6378 - val_acc: 0.9101\n",
            "Epoch 9/20\n",
            "60000/60000 [==============================] - 6s 93us/sample - loss: 5.2117 - acc: 0.8863 - val_loss: 6.6819 - val_acc: 0.8672\n",
            "Epoch 10/20\n",
            "60000/60000 [==============================] - 6s 92us/sample - loss: 5.1377 - acc: 0.8870 - val_loss: 4.8919 - val_acc: 0.9010\n",
            "Epoch 11/20\n",
            "60000/60000 [==============================] - 6s 92us/sample - loss: 5.0681 - acc: 0.8880 - val_loss: 5.6942 - val_acc: 0.8944\n",
            "Epoch 12/20\n",
            "60000/60000 [==============================] - 6s 93us/sample - loss: 5.0861 - acc: 0.8877 - val_loss: 6.2102 - val_acc: 0.8783\n",
            "Epoch 13/20\n",
            "60000/60000 [==============================] - 6s 93us/sample - loss: 5.0819 - acc: 0.8889 - val_loss: 5.2259 - val_acc: 0.8955\n",
            "Epoch 14/20\n",
            "60000/60000 [==============================] - 6s 93us/sample - loss: 5.0507 - acc: 0.8893 - val_loss: 6.9746 - val_acc: 0.8676\n",
            "Epoch 15/20\n",
            "60000/60000 [==============================] - 5s 91us/sample - loss: 5.0601 - acc: 0.8905 - val_loss: 6.1743 - val_acc: 0.8773\n",
            "Epoch 16/20\n",
            "60000/60000 [==============================] - 6s 92us/sample - loss: 5.1190 - acc: 0.8895 - val_loss: 5.0394 - val_acc: 0.9033\n",
            "Epoch 17/20\n",
            "60000/60000 [==============================] - 5s 91us/sample - loss: 5.0779 - acc: 0.8899 - val_loss: 5.1678 - val_acc: 0.8943\n",
            "Epoch 18/20\n",
            "60000/60000 [==============================] - 6s 93us/sample - loss: 5.0838 - acc: 0.8905 - val_loss: 6.1343 - val_acc: 0.8867\n",
            "Epoch 19/20\n",
            "60000/60000 [==============================] - 6s 92us/sample - loss: 5.1280 - acc: 0.8902 - val_loss: 5.5231 - val_acc: 0.8904\n",
            "Epoch 20/20\n",
            "60000/60000 [==============================] - 6s 98us/sample - loss: 5.1019 - acc: 0.8905 - val_loss: 5.2123 - val_acc: 0.9010\n"
          ],
          "name": "stdout"
        }
      ]
    },
    {
      "cell_type": "code",
      "metadata": {
        "id": "jOPkPXYLh3SH",
        "colab_type": "code",
        "colab": {
          "base_uri": "https://localhost:8080/",
          "height": 54
        },
        "outputId": "089ed59a-6df6-4733-a2ee-680bfa60fec4"
      },
      "source": [
        "test_loss, test_acc = model.evaluate(new_test, test_labels)\n",
        "\n",
        "print('Test accuracy:', test_acc)"
      ],
      "execution_count": 88,
      "outputs": [
        {
          "output_type": "stream",
          "text": [
            "10000/10000 [==============================] - 1s 59us/sample - loss: 5.2123 - acc: 0.9010\n",
            "Test accuracy: 0.901\n"
          ],
          "name": "stdout"
        }
      ]
    },
    {
      "cell_type": "code",
      "metadata": {
        "id": "TwqkKuP4h4Tk",
        "colab_type": "code",
        "colab": {
          "base_uri": "https://localhost:8080/",
          "height": 573
        },
        "outputId": "ab79792d-a5aa-4f5b-d1e1-33556a0485da"
      },
      "source": [
        "history_dict = history.history\n",
        "epochs_range = range(1, epochs+1)\n",
        "\n",
        "plot_loss(epochs_range, history_dict['loss'], history_dict['val_loss'])\n",
        "plot_accuracy(epochs_range, history_dict['acc'], history_dict['val_acc'])"
      ],
      "execution_count": 90,
      "outputs": [
        {
          "output_type": "display_data",
          "data": {
            "image/png": "[encoded data removed]",
            "text/plain": [
              "<Figure size 432x288 with 1 Axes>"
            ]
          },
          "metadata": {
            "tags": []
          }
        },
        {
          "output_type": "display_data",
          "data": {
            "image/png": "[encoded data removed]",
            "text/plain": [
              "<Figure size 432x288 with 1 Axes>"
            ]
          },
          "metadata": {
            "tags": []
          }
        }
      ]
    },
    {
      "cell_type": "markdown",
      "metadata": {
        "id": "kp82OcEBlE09",
        "colab_type": "text"
      },
      "source": [
        "## Single softmax dense layer\n",
        "(no handcrafted features)"
      ]
    },
    {
      "cell_type": "code",
      "metadata": {
        "colab_type": "code",
        "id": "UdD1zp3NlQOI",
        "colab": {}
      },
      "source": [
        "model = tf.keras.Sequential([\n",
        "    tf.keras.layers.Flatten(input_shape=(28,28)),\n",
        "    tf.keras.layers.Dense(10, activation=tf.nn.softmax)\n",
        "])\n",
        "\n",
        "model.compile(optimizer='rmsprop',\n",
        "              loss='sparse_categorical_crossentropy',\n",
        "             metrics=['accuracy'])"
      ],
      "execution_count": 0,
      "outputs": []
    },
    {
      "cell_type": "code",
      "metadata": {
        "colab_type": "code",
        "outputId": "ea7c7b0f-a996-4434-da78-8b341dae88d1",
        "id": "3E5GTKoXlQOM",
        "colab": {
          "base_uri": "https://localhost:8080/",
          "height": 790
        }
      },
      "source": [
        "# train the model\n",
        "epochs = 20\n",
        "history = model.fit(train_images, \n",
        "                      train_labels,\n",
        "                      epochs=epochs,\n",
        "                      validation_data=(test_images, test_labels))"
      ],
      "execution_count": 99,
      "outputs": [
        {
          "output_type": "stream",
          "text": [
            "Train on 60000 samples, validate on 10000 samples\n",
            "Epoch 1/20\n",
            "60000/60000 [==============================] - 6s 95us/sample - loss: 9.6783 - acc: 0.8382 - val_loss: 7.8994 - val_acc: 0.8480\n",
            "Epoch 2/20\n",
            "60000/60000 [==============================] - 6s 92us/sample - loss: 6.2965 - acc: 0.8761 - val_loss: 5.9238 - val_acc: 0.8816\n",
            "Epoch 3/20\n",
            "60000/60000 [==============================] - 6s 94us/sample - loss: 5.7438 - acc: 0.8786 - val_loss: 5.5596 - val_acc: 0.8887\n",
            "Epoch 4/20\n",
            "60000/60000 [==============================] - 6s 93us/sample - loss: 5.5332 - acc: 0.8825 - val_loss: 5.3609 - val_acc: 0.8914\n",
            "Epoch 5/20\n",
            "60000/60000 [==============================] - 6s 94us/sample - loss: 5.3481 - acc: 0.8834 - val_loss: 5.9668 - val_acc: 0.8757\n",
            "Epoch 6/20\n",
            "60000/60000 [==============================] - 6s 93us/sample - loss: 5.3067 - acc: 0.8847 - val_loss: 5.7664 - val_acc: 0.8828\n",
            "Epoch 7/20\n",
            "60000/60000 [==============================] - 6s 93us/sample - loss: 5.2270 - acc: 0.8880 - val_loss: 5.1035 - val_acc: 0.8961\n",
            "Epoch 8/20\n",
            "60000/60000 [==============================] - 5s 92us/sample - loss: 5.2373 - acc: 0.8854 - val_loss: 5.4043 - val_acc: 0.8865\n",
            "Epoch 9/20\n",
            "60000/60000 [==============================] - 6s 94us/sample - loss: 5.1206 - acc: 0.8858 - val_loss: 6.3235 - val_acc: 0.8630\n",
            "Epoch 10/20\n",
            "60000/60000 [==============================] - 6s 93us/sample - loss: 5.1363 - acc: 0.8868 - val_loss: 5.0630 - val_acc: 0.9001\n",
            "Epoch 11/20\n",
            "60000/60000 [==============================] - 6s 93us/sample - loss: 5.1326 - acc: 0.8874 - val_loss: 6.5675 - val_acc: 0.8766\n",
            "Epoch 12/20\n",
            "60000/60000 [==============================] - 6s 92us/sample - loss: 5.0978 - acc: 0.8889 - val_loss: 5.4177 - val_acc: 0.8920\n",
            "Epoch 13/20\n",
            "60000/60000 [==============================] - 6s 93us/sample - loss: 5.1593 - acc: 0.8890 - val_loss: 5.2929 - val_acc: 0.8952\n",
            "Epoch 14/20\n",
            "60000/60000 [==============================] - 6s 94us/sample - loss: 5.1052 - acc: 0.8877 - val_loss: 6.1924 - val_acc: 0.8747\n",
            "Epoch 15/20\n",
            "60000/60000 [==============================] - 6s 93us/sample - loss: 5.0769 - acc: 0.8883 - val_loss: 6.1021 - val_acc: 0.8845\n",
            "Epoch 16/20\n",
            "60000/60000 [==============================] - 6s 93us/sample - loss: 5.1307 - acc: 0.8892 - val_loss: 5.3311 - val_acc: 0.8962\n",
            "Epoch 17/20\n",
            "60000/60000 [==============================] - 6s 93us/sample - loss: 5.1267 - acc: 0.8901 - val_loss: 5.9966 - val_acc: 0.8869\n",
            "Epoch 18/20\n",
            "60000/60000 [==============================] - 6s 93us/sample - loss: 5.1558 - acc: 0.8900 - val_loss: 5.2357 - val_acc: 0.8979\n",
            "Epoch 19/20\n",
            "60000/60000 [==============================] - 6s 93us/sample - loss: 5.0947 - acc: 0.8896 - val_loss: 5.4405 - val_acc: 0.8973\n",
            "Epoch 20/20\n",
            "60000/60000 [==============================] - 6s 93us/sample - loss: 5.1546 - acc: 0.8899 - val_loss: 5.9642 - val_acc: 0.8816\n"
          ],
          "name": "stdout"
        }
      ]
    },
    {
      "cell_type": "code",
      "metadata": {
        "colab_type": "code",
        "outputId": "6fa31ff6-d511-4754-9672-c117483f7573",
        "id": "_XNAJr79lQOR",
        "colab": {
          "base_uri": "https://localhost:8080/",
          "height": 54
        }
      },
      "source": [
        "test_loss, test_acc = model.evaluate(test_images, test_labels)\n",
        "\n",
        "print('Test accuracy:', test_acc)"
      ],
      "execution_count": 102,
      "outputs": [
        {
          "output_type": "stream",
          "text": [
            "10000/10000 [==============================] - 1s 61us/sample - loss: 5.9642 - acc: 0.8816\n",
            "Test accuracy: 0.8816\n"
          ],
          "name": "stdout"
        }
      ]
    },
    {
      "cell_type": "code",
      "metadata": {
        "colab_type": "code",
        "outputId": "bacf6f7c-a334-4bc0-bdf5-3f3b44dd13d3",
        "id": "VqehlLy8lQOX",
        "colab": {
          "base_uri": "https://localhost:8080/",
          "height": 573
        }
      },
      "source": [
        "history_dict = history.history\n",
        "epochs_range = range(1, epochs+1)\n",
        "\n",
        "plot_loss(epochs_range, history_dict['loss'], history_dict['val_loss'])\n",
        "plot_accuracy(epochs_range, history_dict['acc'], history_dict['val_acc'])"
      ],
      "execution_count": 103,
      "outputs": [
        {
          "output_type": "display_data",
          "data": {
            "image/png": "[encoded data removed]",
            "text/plain": [
              "<Figure size 432x288 with 1 Axes>"
            ]
          },
          "metadata": {
            "tags": []
          }
        },
        {
          "output_type": "display_data",
          "data": {
            "image/png": "[encoded data removed]",
            "text/plain": [
              "<Figure size 432x288 with 1 Axes>"
            ]
          },
          "metadata": {
            "tags": []
          }
        }
      ]
    },
    {
      "cell_type": "code",
      "metadata": {
        "id": "_BVJjlOhmKTH",
        "colab_type": "code",
        "colab": {}
      },
      "source": [
        ""
      ],
      "execution_count": 0,
      "outputs": []
    }
  ]
}