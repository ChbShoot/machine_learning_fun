{
  "nbformat": 4,
  "nbformat_minor": 0,
  "metadata": {
    "colab": {
      "name": "hw1q3",
      "provenance": []
    },
    "kernelspec": {
      "name": "python3",
      "display_name": "Python 3"
    }
  },
  "cells": [
    {
      "cell_type": "markdown",
      "metadata": {
        "id": "7xdeKpJ6Tunh",
        "colab_type": "text"
      },
      "source": [
        "# **Problem 3** \n",
        "\n",
        "What does an average MNIST digit look like? For each i=0,1,...,9, compute the average of digit i and display it.\n",
        "\n",
        "Check out [Colab notebook for loading and exploring the MNIST digits data set](https://colab.research.google.com/drive/1HDZB0sEjhd0sdTFNCmJXvB8hYnE9KBM7)."
      ]
    },
    {
      "cell_type": "code",
      "metadata": {
        "id": "R41zZ21AvYWL",
        "colab_type": "code",
        "outputId": "095d3378-4acf-484f-952a-1395eb6a6982",
        "colab": {
          "base_uri": "https://localhost:8080/",
          "height": 36
        }
      },
      "source": [
        "# Import libraries\n",
        "%matplotlib inline\n",
        "from keras.datasets import mnist\n",
        "import numpy as np\n",
        "import matplotlib.pyplot as plt"
      ],
      "execution_count": 0,
      "outputs": [
        {
          "output_type": "stream",
          "text": [
            "Using TensorFlow backend.\n"
          ],
          "name": "stderr"
        }
      ]
    },
    {
      "cell_type": "code",
      "metadata": {
        "id": "mgmZLm7i2AOB",
        "colab_type": "code",
        "outputId": "6a1c0718-6637-410b-889d-8f3af154776d",
        "colab": {
          "base_uri": "https://localhost:8080/",
          "height": 54
        }
      },
      "source": [
        "# Load MNIST dataset\n",
        "(train_images, train_labels), (test_images, test_labels) = mnist.load_data()"
      ],
      "execution_count": 0,
      "outputs": [
        {
          "output_type": "stream",
          "text": [
            "Downloading data from https://s3.amazonaws.com/img-datasets/mnist.npz\n",
            "11493376/11490434 [==============================] - 0s 0us/step\n"
          ],
          "name": "stdout"
        }
      ]
    },
    {
      "cell_type": "code",
      "metadata": {
        "id": "FVAju6SwdyUk",
        "colab_type": "code",
        "colab": {}
      },
      "source": [
        "# Fancy way -- Chris D.\n",
        "#for i in range(0, 10):\n",
        "  #plt.imshow(sum(train_images[(train_labels == i)].astype(float))/len(train_labels[(train_labels == i)]))\n",
        "#plt.show()\n",
        "#plt.close()"
      ],
      "execution_count": 0,
      "outputs": []
    },
    {
      "cell_type": "code",
      "metadata": {
        "id": "PgD9tkxj2V48",
        "colab_type": "code",
        "colab": {}
      },
      "source": [
        "# Create arrays for data\n",
        "avg_images = np.zeros((10, 28, 28))\n",
        "image_counts = np.zeros (10,)"
      ],
      "execution_count": 0,
      "outputs": []
    },
    {
      "cell_type": "code",
      "metadata": {
        "id": "DU9rdwA22hmK",
        "colab_type": "code",
        "colab": {}
      },
      "source": [
        "# Add all the images in train_images\n",
        "for i in range (len(train_images)):\n",
        "  num_index = train_labels[i] - 1\n",
        "  avg_images[num_index] += train_images[i]\n",
        "  image_counts[num_index] += 1"
      ],
      "execution_count": 0,
      "outputs": []
    },
    {
      "cell_type": "code",
      "metadata": {
        "id": "oKU5l4-34TPQ",
        "colab_type": "code",
        "outputId": "a5871130-00fd-428c-e67f-ab3a51e7aa4e",
        "colab": {
          "base_uri": "https://localhost:8080/",
          "height": 204
        }
      },
      "source": [
        "# Normalize the images\n",
        "for i in range (len(avg_images)):\n",
        "  print (image_counts[i])\n",
        "  avg_images[i] /= image_counts[i]"
      ],
      "execution_count": 0,
      "outputs": [
        {
          "output_type": "stream",
          "text": [
            "6742.0\n",
            "5958.0\n",
            "6131.0\n",
            "5842.0\n",
            "5421.0\n",
            "5918.0\n",
            "6265.0\n",
            "5851.0\n",
            "5949.0\n",
            "5923.0\n"
          ],
          "name": "stdout"
        }
      ]
    },
    {
      "cell_type": "code",
      "metadata": {
        "id": "UP7lBSh126O_",
        "colab_type": "code",
        "outputId": "6f214cb1-bb5c-442d-a0d2-3ba5c102f559",
        "colab": {
          "base_uri": "https://localhost:8080/",
          "height": 313
        }
      },
      "source": [
        "# Draw the image\n",
        "plt.figure(figsize=(10, 10))\n",
        "plt.suptitle(\"Average Numbers\")\n",
        "for i in range(len(avg_images)):\n",
        "  plt.subplot(5, 5, i + 1)\n",
        "  plt.xticks([])\n",
        "  plt.yticks([])\n",
        "  plt.grid(False)\n",
        "  plt.imshow(avg_images[i], cmap=plt.cm.BuPu_r)\n",
        "plt.show()"
      ],
      "execution_count": 0,
      "outputs": [
        {
          "output_type": "display_data",
          "data": {
            "image/png": "[encoded data removed]",
            "text/plain": [
              "<Figure size 720x720 with 10 Axes>"
            ]
          },
          "metadata": {
            "tags": []
          }
        }
      ]
    }
  ]
}